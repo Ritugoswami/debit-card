{
 "cells": [
  {
   "cell_type": "code",
   "execution_count": 21,
   "id": "b0f12dc8",
   "metadata": {},
   "outputs": [
    {
     "name": "stdout",
     "output_type": "stream",
     "text": [
      "the list is : {1, 2, 3, 5, 6, 7, 44}\n"
     ]
    }
   ],
   "source": [
    "a={1,2,3,44,5,6,7}\n",
    "print(\"the list is :\",a)"
   ]
  },
  {
   "cell_type": "code",
   "execution_count": 4,
   "id": "290fb1af",
   "metadata": {},
   "outputs": [
    {
     "name": "stdout",
     "output_type": "stream",
     "text": [
      "the new list is : hello\n"
     ]
    }
   ],
   "source": [
    "a=\"hello\"\n",
    "print(\"the new list is :\",a)\n"
   ]
  },
  {
   "cell_type": "code",
   "execution_count": 22,
   "id": "225b843c",
   "metadata": {},
   "outputs": [
    {
     "name": "stdout",
     "output_type": "stream",
     "text": [
      "the list is : {2, 66, 'hello', 5, 4, 'world'}\n"
     ]
    }
   ],
   "source": [
    "l={2,4,5,66,\"hello\",\"world\"}\n",
    "print(\"the list is :\",l)"
   ]
  },
  {
   "cell_type": "code",
   "execution_count": 14,
   "id": "5aa47115",
   "metadata": {},
   "outputs": [
    {
     "name": "stdout",
     "output_type": "stream",
     "text": [
      "the new list is: [2, 4, 5, 66, 'hello', 'suby']\n"
     ]
    }
   ],
   "source": [
    "l[5]=\"suby\"\n",
    "print (\"the new list is:\",l)"
   ]
  },
  {
   "cell_type": "code",
   "execution_count": 27,
   "id": "a4936fae",
   "metadata": {},
   "outputs": [
    {
     "ename": "SyntaxError",
     "evalue": "invalid syntax (2022997433.py, line 1)",
     "output_type": "error",
     "traceback": [
      "\u001b[1;36m  Input \u001b[1;32mIn [27]\u001b[1;36m\u001b[0m\n\u001b[1;33m    l{-3}=\"soni\"\u001b[0m\n\u001b[1;37m     ^\u001b[0m\n\u001b[1;31mSyntaxError\u001b[0m\u001b[1;31m:\u001b[0m invalid syntax\n"
     ]
    }
   ],
   "source": [
    "l{-3}=\"soni\"\n",
    "print(\"the new list is:\",l)"
   ]
  },
  {
   "cell_type": "code",
   "execution_count": 20,
   "id": "18078b66",
   "metadata": {},
   "outputs": [
    {
     "ename": "IndentationError",
     "evalue": "unexpected indent (1881528807.py, line 2)",
     "output_type": "error",
     "traceback": [
      "\u001b[1;36m  Input \u001b[1;32mIn [20]\u001b[1;36m\u001b[0m\n\u001b[1;33m    print(\"the new list is:\",l)\u001b[0m\n\u001b[1;37m    ^\u001b[0m\n\u001b[1;31mIndentationError\u001b[0m\u001b[1;31m:\u001b[0m unexpected indent\n"
     ]
    }
   ],
   "source": [
    "l[2]=\"soni\"\n",
    " print(\"the new list is:\",l)"
   ]
  },
  {
   "cell_type": "markdown",
   "id": "5435d115",
   "metadata": {},
   "source": []
  },
  {
   "cell_type": "code",
   "execution_count": 28,
   "id": "102c7c0e",
   "metadata": {},
   "outputs": [
    {
     "ename": "SyntaxError",
     "evalue": "EOL while scanning string literal (2189556236.py, line 1)",
     "output_type": "error",
     "traceback": [
      "\u001b[1;36m  Input \u001b[1;32mIn [28]\u001b[1;36m\u001b[0m\n\u001b[1;33m    l={23:44,57:34,\"hello:12}\u001b[0m\n\u001b[1;37m                             ^\u001b[0m\n\u001b[1;31mSyntaxError\u001b[0m\u001b[1;31m:\u001b[0m EOL while scanning string literal\n"
     ]
    }
   ],
   "source": [
    "l={23:44,57:34,\"hello:12}\n",
    "   print(l)"
   ]
  },
  {
   "cell_type": "code",
   "execution_count": 29,
   "id": "a3da895a",
   "metadata": {},
   "outputs": [
    {
     "ename": "SyntaxError",
     "evalue": "invalid syntax (3632764657.py, line 1)",
     "output_type": "error",
     "traceback": [
      "\u001b[1;36m  Input \u001b[1;32mIn [29]\u001b[1;36m\u001b[0m\n\u001b[1;33m    l[3]=23:\"hello\"\u001b[0m\n\u001b[1;37m           ^\u001b[0m\n\u001b[1;31mSyntaxError\u001b[0m\u001b[1;31m:\u001b[0m invalid syntax\n"
     ]
    }
   ],
   "source": [
    "l[3]=23:\"hello\"\n",
    "    print(the new list is:,l)"
   ]
  },
  {
   "cell_type": "code",
   "execution_count": null,
   "id": "a4ccb0b7",
   "metadata": {},
   "outputs": [],
   "source": []
  }
 ],
 "metadata": {
  "kernelspec": {
   "display_name": "Python 3 (ipykernel)",
   "language": "python",
   "name": "python3"
  },
  "language_info": {
   "codemirror_mode": {
    "name": "ipython",
    "version": 3
   },
   "file_extension": ".py",
   "mimetype": "text/x-python",
   "name": "python",
   "nbconvert_exporter": "python",
   "pygments_lexer": "ipython3",
   "version": "3.9.12"
  }
 },
 "nbformat": 4,
 "nbformat_minor": 5
}
